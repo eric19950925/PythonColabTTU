{
  "nbformat": 4,
  "nbformat_minor": 0,
  "metadata": {
    "colab": {
      "name": "PythonTTU.ipynb",
      "provenance": [],
      "collapsed_sections": [],
      "authorship_tag": "ABX9TyMujcg1knw5S/PVikdXDtK6",
      "include_colab_link": true
    },
    "kernelspec": {
      "name": "python3",
      "display_name": "Python 3"
    },
    "language_info": {
      "name": "python"
    }
  },
  "cells": [
    {
      "cell_type": "markdown",
      "metadata": {
        "id": "view-in-github",
        "colab_type": "text"
      },
      "source": [
        "<a href=\"https://colab.research.google.com/github/eric19950925/PythonColabTTU/blob/main/PythonTTU.ipynb\" target=\"_parent\"><img src=\"https://colab.research.google.com/assets/colab-badge.svg\" alt=\"Open In Colab\"/></a>"
      ]
    },
    {
      "cell_type": "markdown",
      "metadata": {
        "id": "FjxmSACKHdqU"
      },
      "source": [
        "練習1:直接爬原始碼\n"
      ]
    },
    {
      "cell_type": "code",
      "metadata": {
        "id": "tX55XcvazBjI"
      },
      "source": [
        "from urllib import request\n",
        "url = \"https://ctee.com.tw/livenews/aj/page/1\"\n",
        "res = request.urlopen(url)\n",
        "content = res.read().decode('utf-8')\n",
        "print(content)"
      ],
      "execution_count": null,
      "outputs": []
    },
    {
      "cell_type": "markdown",
      "metadata": {
        "id": "1wD0DuCxH-vJ"
      },
      "source": [
        "練習2:爬指定字串"
      ]
    },
    {
      "cell_type": "code",
      "metadata": {
        "id": "joqBN4LMU5no"
      },
      "source": [
        "from bs4 import BeautifulSoup\n",
        "import requests as rq\n",
        "r = rq.get(url)\n",
        "print(r)\n",
        "soup = BeautifulSoup(r.text,\"lxml\")\n",
        "print(soup.find('h1').text)"
      ],
      "execution_count": 1,
      "outputs": []
    },
    {
      "cell_type": "markdown",
      "metadata": {
        "id": "xd0GXKx6NXAj"
      },
      "source": [
        "例外處理(P29)"
      ]
    },
    {
      "cell_type": "code",
      "metadata": {
        "id": "s-Y9kAmRNZK5"
      },
      "source": [
        ""
      ],
      "execution_count": null,
      "outputs": []
    },
    {
      "cell_type": "markdown",
      "metadata": {
        "id": "PFdXvfn4KqJU"
      },
      "source": [
        "練習3:新聞文章彙整\n"
      ]
    },
    {
      "cell_type": "code",
      "metadata": {
        "id": "fsC030hQzTbr"
      },
      "source": [
        "def get_web_page(url):\n",
        "  resp = rq.get(\n",
        "      url = url,\n",
        "      cookies = {'over18': '1'}\n",
        "  )\n",
        "  if resp.status_code != 200:\n",
        "    print('invalid url:',resp.url)\n",
        "    return None\n",
        "  else: \n",
        "    return resp.text"
      ],
      "execution_count": null,
      "outputs": []
    },
    {
      "cell_type": "code",
      "metadata": {
        "id": "RwpRfJpy53l8"
      },
      "source": [
        "def get_articles(dom,date):\n",
        "  soup = BeautifulSoup(dom,'html5lib')\n",
        "\n",
        "  paging_div = soup.find('div','btn-group btn-group-paging')\n",
        "  prev_url = paging_div.find_all('a')[1]['href']\n",
        "\n",
        "  articles = []\n",
        "  divs = soup.find_all('div','r-ent')\n",
        "\n",
        "  for d in divs:\n",
        "    if d.find('div','date').text.strip() == date:\n",
        "      push_count = 0\n",
        "      push_str = d.find('div','nrec').text\n",
        "\n",
        "      if push_str:\n",
        "        try:\n",
        "          push_count = int(push_str)\n",
        "        except ValueError:\n",
        "          if push_str == '爆':\n",
        "              push_count == 99\n",
        "          elif push_str.startswith('X'):\n",
        "            push_count == -10\n",
        "\n",
        "      if d.find('a'):\n",
        "        href = d.find('a')['href']\n",
        "        title = d.find('a').text\n",
        "        author = d.find('div','author').text if d.find('div','author') else ''\n",
        "        articles.append({\n",
        "            'title':title,\n",
        "            'href':href,\n",
        "            'push_count':push_count,\n",
        "            'author':author\n",
        "            })\n",
        "\n",
        "  return articles,prev_url"
      ],
      "execution_count": null,
      "outputs": []
    },
    {
      "cell_type": "code",
      "metadata": {
        "colab": {
          "base_uri": "https://localhost:8080/"
        },
        "id": "ceOIBNRb55uX",
        "outputId": "6e219f63-a498-422c-cb9f-034cadda66f0"
      },
      "source": [
        "PTT_URL = 'https://www.ptt.cc'\n",
        "import time\n",
        "import json\n",
        "\n",
        "current_page=get_web_page(PTT_URL + '/bbs/Gossiping/index.html')\n",
        "\n",
        "if current_page:\n",
        "  articles = []\n",
        "\n",
        "  today = time.strftime(\"%m/%d\").lstrip('0')\n",
        "\n",
        "  current_articles,prev_url = get_articles(current_page,today)\n",
        "\n",
        "  while current_articles:\n",
        "    articles += current_articles\n",
        "    current_page = get_web_page(PTT_URL + prev_url)\n",
        "    current_articles,prev_url = get_articles(current_page,today)\n",
        "\n",
        "  print('今天有',len(articles),'篇文章')\n",
        "  threshold = 50\n",
        "  print('熱門文章(>%d推):'%(threshold))\n",
        "  for a in articles:\n",
        "    if int(a['push_count'])>threshold:\n",
        "      print(a)\n",
        "  \n",
        "  with open('gossiping.json','w',encoding='utf-8') as f:\n",
        "    json.dump(articles, f, indent=2, sort_keys=True, ensure_ascii=False)"
      ],
      "execution_count": null,
      "outputs": [
        {
          "output_type": "stream",
          "name": "stdout",
          "text": [
            "今天有 1443 篇文章\n",
            "熱門文章(>50推):\n",
            "{'title': '[新聞] 快訊／花蓮4高中生北濱公園戲水！1人遭', 'href': '/bbs/Gossiping/M.1634464064.A.017.html', 'push_count': 80, 'author': 'greenmiracle'}\n",
            "{'title': '[新聞] 城中城大火男子原稱冒險救弟 坦承將弟反', 'href': '/bbs/Gossiping/M.1634464252.A.BE3.html', 'push_count': 84, 'author': 'ininder30cm'}\n",
            "{'title': '[新聞] 花蓮健走出現神秘嘉賓！馬英九、金溥聰現', 'href': '/bbs/Gossiping/M.1634464260.A.06A.html', 'push_count': 73, 'author': 'hTCU11'}\n",
            "{'title': '[新聞] 男子接連撞車造成2傷竟還偷車肇事逃逸  警方追緝中', 'href': '/bbs/Gossiping/M.1634462107.A.1DF.html', 'push_count': 71, 'author': 'goatcheese'}\n",
            "{'title': '[問卦] 黃賭毒 哪個最難戒?', 'href': '/bbs/Gossiping/M.1634462380.A.06D.html', 'push_count': 55, 'author': 'ANava'}\n",
            "{'title': 'Re: [新聞] 盪鞦韆3分鐘換人 1百位小孩曝心聲', 'href': '/bbs/Gossiping/M.1634460842.A.D91.html', 'push_count': 79, 'author': 'rich22084'}\n",
            "{'title': '[問卦] 霍爾的移動城堡 是動產還是不動產？', 'href': '/bbs/Gossiping/M.1634459053.A.E0F.html', 'push_count': 62, 'author': 'jw8878'}\n",
            "{'title': '[問卦] 男28歲還沒有汽車駕照很奇怪嗎？', 'href': '/bbs/Gossiping/M.1634456945.A.A84.html', 'push_count': 74, 'author': 'bluewhale97'}\n",
            "{'title': '[新聞] 東石漁人碼頭停車場 補習班師生暈倒車上', 'href': '/bbs/Gossiping/M.1634455530.A.B42.html', 'push_count': 55, 'author': 'seibu'}\n",
            "{'title': '[問卦] 為什麼台灣人比較無法接受長時間通勤', 'href': '/bbs/Gossiping/M.1634455815.A.AF2.html', 'push_count': 57, 'author': 'vigorhsieh'}\n",
            "{'title': 'Re: [新聞] 盪鞦韆3分鐘換人 1百位小孩曝心聲', 'href': '/bbs/Gossiping/M.1634455936.A.D39.html', 'push_count': 59, 'author': 'BlueBird5566'}\n",
            "{'title': '[問卦] 有人收到警報？', 'href': '/bbs/Gossiping/M.1634455433.A.88E.html', 'push_count': 55, 'author': 'iphone5656'}\n",
            "{'title': '[新聞] 盪鞦韆3分鐘換人 1百位小孩曝心聲', 'href': '/bbs/Gossiping/M.1634453033.A.39B.html', 'push_count': 99, 'author': 'a0913'}\n",
            "{'title': '[問卦] 我怎麼感覺很多八年級小朋友都過的不錯', 'href': '/bbs/Gossiping/M.1634449775.A.CC2.html', 'push_count': 76, 'author': 'lichuer'}\n",
            "{'title': '[新聞] 高雄尚存34棟老舊大樓 陳其邁下令10天內', 'href': '/bbs/Gossiping/M.1634450248.A.E48.html', 'push_count': 71, 'author': 'kivan00'}\n",
            "{'title': '[問卦] 版上的大陸仔真的有夠多的耶', 'href': '/bbs/Gossiping/M.1634450271.A.D19.html', 'push_count': 99, 'author': 'G4321'}\n",
            "{'title': '[爆卦] 聽見玻璃心碎的聲音破200萬觀看了', 'href': '/bbs/Gossiping/M.1634449073.A.4C0.html', 'push_count': 82, 'author': 'signm'}\n",
            "{'title': '[新聞] 虎豹潭仍2失聯 主辦公司登記地無人、無1', 'href': '/bbs/Gossiping/M.1634448853.A.DA9.html', 'push_count': 75, 'author': 'zxcvbbb'}\n",
            "{'title': 'Re: [新聞] 研究生人妻偷吃大10歲老王\\u3000竹科工程師', 'href': '/bbs/Gossiping/M.1634447671.A.FC7.html', 'push_count': 95, 'author': 'awss1971'}\n",
            "{'title': '[新聞]財報+籌碼+均線三大選股 27歲少年股神賺進', 'href': '/bbs/Gossiping/M.1634448251.A.94E.html', 'push_count': 53, 'author': 'icelaw'}\n",
            "{'title': '[問卦] 女生：「你長得很像理工的欸」？', 'href': '/bbs/Gossiping/M.1634448420.A.076.html', 'push_count': 56, 'author': 'ray90910'}\n",
            "{'title': '[新聞] 高市工務局：城中城7至11樓40年前即有195', 'href': '/bbs/Gossiping/M.1634447175.A.2E1.html', 'push_count': 99, 'author': 'tasogare'}\n",
            "{'title': '[新聞] 陳修將補破碎頭骨靠保鮮膜\\u3000同業起底！修', 'href': '/bbs/Gossiping/M.1634446787.A.0CB.html', 'push_count': 65, 'author': 'popoallan'}\n",
            "{'title': '[問卦] 買不起房的幹嘛不買淡水或汐止?', 'href': '/bbs/Gossiping/M.1634444989.A.76C.html', 'push_count': 52, 'author': 'joe255118'}\n",
            "{'title': '[新聞] 柯文哲籲查高端 檢：分案調查中', 'href': '/bbs/Gossiping/M.1634444757.A.7DA.html', 'push_count': 73, 'author': 'shangguan125'}\n",
            "{'title': '[問卦] 被溪水沖走是必死的嗎?', 'href': '/bbs/Gossiping/M.1634443997.A.6D9.html', 'push_count': 57, 'author': 'qwer338859'}\n",
            "{'title': '[爆卦] 台中三井outlet 停電了！！！', 'href': '/bbs/Gossiping/M.1634443144.A.54C.html', 'push_count': 80, 'author': 'guanrulee'}\n",
            "{'title': '[問卦] 自己游上岸的女童 天生神力？？', 'href': '/bbs/Gossiping/M.1634442067.A.CD0.html', 'push_count': 54, 'author': 'acctq'}\n",
            "{'title': '[問卦] 為啥美國人會覺得Zendaya很漂亮？', 'href': '/bbs/Gossiping/M.1634440467.A.253.html', 'push_count': 92, 'author': 'zhxl'}\n",
            "{'title': '[新聞] 立委黃國書嘆「黨內追殺只好退黨」當線民', 'href': '/bbs/Gossiping/M.1634439073.A.B81.html', 'push_count': 90, 'author': 'Celesite'}\n",
            "{'title': '[問卦] 為何會有女生喜歡大自己超過12歲的男生？', 'href': '/bbs/Gossiping/M.1634437897.A.104.html', 'push_count': 69, 'author': 'xpradax'}\n",
            "{'title': '[問卦] 苦行走路算作秀嗎？', 'href': '/bbs/Gossiping/M.1634437351.A.007.html', 'push_count': 76, 'author': 'peanut0823'}\n",
            "{'title': '[新聞] 虎豹潭溪再尋獲9歲女童\\u3000仍有4人失蹤', 'href': '/bbs/Gossiping/M.1634434188.A.AAB.html', 'push_count': 60, 'author': 'awss1971'}\n",
            "{'title': '[新聞] 謝淑薇攜手梅騰絲 笑捧印地安泉女雙第3冠', 'href': '/bbs/Gossiping/M.1634430435.A.4EC.html', 'push_count': 65, 'author': 'iamthebest08'}\n",
            "{'title': 'Re: [新聞]立委黃國書承認曾當國民黨「線民」宣布退出', 'href': '/bbs/Gossiping/M.1634428264.A.7C9.html', 'push_count': 74, 'author': 'Borges'}\n",
            "{'title': '[問卦] 有沒有那種讓女生一聽就笑的笑話段子', 'href': '/bbs/Gossiping/M.1634424037.A.7F4.html', 'push_count': 52, 'author': 'GTOyoko5566'}\n",
            "{'title': '[問卦] 台南除了牛肉湯能打，還有什麼？', 'href': '/bbs/Gossiping/M.1634411706.A.761.html', 'push_count': 57, 'author': 's2678132'}\n",
            "{'title': '[問卦] 男友收入才八千人民幣算沒用嗎??', 'href': '/bbs/Gossiping/M.1634408299.A.D46.html', 'push_count': 99, 'author': 'w510048'}\n",
            "{'title': '[問卦] 這群人為什麼可以紅那麼久?', 'href': '/bbs/Gossiping/M.1634406088.A.268.html', 'push_count': 55, 'author': 'OPPAISuki'}\n",
            "{'title': '[新聞] 溪水暴漲虎豹潭6失踪 帶隊師淚求市長不要', 'href': '/bbs/Gossiping/M.1634403191.A.9AB.html', 'push_count': 57, 'author': 'chipei27'}\n",
            "{'title': '[問卦] 上億的黑錢都怎麼洗的阿？', 'href': '/bbs/Gossiping/M.1634402132.A.396.html', 'push_count': 70, 'author': 'Tono6812'}\n",
            "{'title': '[問卦] 40歲，國小女老師，你可以嗎？', 'href': '/bbs/Gossiping/M.1634402386.A.C50.html', 'push_count': 56, 'author': 'LEDG'}\n"
          ]
        }
      ]
    }
  ]
}