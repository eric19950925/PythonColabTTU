{
  "nbformat": 4,
  "nbformat_minor": 0,
  "metadata": {
    "colab": {
      "name": "PythonTTU.ipynb",
      "provenance": [],
      "collapsed_sections": [],
      "authorship_tag": "ABX9TyPLogNs+gyx7VUd+mewnoN1",
      "include_colab_link": true
    },
    "kernelspec": {
      "name": "python3",
      "display_name": "Python 3"
    },
    "language_info": {
      "name": "python"
    }
  },
  "cells": [
    {
      "cell_type": "markdown",
      "metadata": {
        "id": "view-in-github",
        "colab_type": "text"
      },
      "source": [
        "<a href=\"https://colab.research.google.com/github/eric19950925/PythonColabTTU/blob/main/PythonTTU.ipynb\" target=\"_parent\"><img src=\"https://colab.research.google.com/assets/colab-badge.svg\" alt=\"Open In Colab\"/></a>"
      ]
    },
    {
      "cell_type": "markdown",
      "metadata": {
        "id": "FjxmSACKHdqU"
      },
      "source": [
        "練習1:直接爬原始碼 HTML response\n"
      ]
    },
    {
      "cell_type": "code",
      "metadata": {
        "id": "tX55XcvazBjI"
      },
      "source": [
        "from urllib import request\n",
        "url = \"https://ctee.com.tw/livenews/aj\"\n",
        "src_url = \"https://github.com/eric19950925/PythonColabTTU/blob/main/PythonTTU.ipynb\"\n",
        "res = request.urlopen(url)\n",
        "content = res.read().decode('utf-8')\n",
        "print(content)"
      ],
      "execution_count": null,
      "outputs": []
    },
    {
      "cell_type": "markdown",
      "metadata": {
        "id": "1wD0DuCxH-vJ"
      },
      "source": [
        "練習2:爬指定字串 Scraping and Parsing the data with parser"
      ]
    },
    {
      "cell_type": "code",
      "metadata": {
        "id": "joqBN4LMU5no",
        "colab": {
          "base_uri": "https://localhost:8080/"
        },
        "outputId": "fc33b343-5534-46cf-e1c9-b9bca938d9fc"
      },
      "source": [
        "from bs4 import BeautifulSoup\n",
        "import requests as rq\n",
        "r = rq.get(url)\n",
        "soup = BeautifulSoup(r.text,\"lxml\")\n",
        "print(r)\n",
        "print(soup.find('h1').text)"
      ],
      "execution_count": 10,
      "outputs": [
        {
          "output_type": "stream",
          "name": "stdout",
          "text": [
            "<Response [200]>\n",
            "\n",
            "\n",
            "\n",
            "工商時報 - 閱讀財經新聞的第一選擇\n",
            "\n",
            "\n"
          ]
        }
      ]
    },
    {
      "cell_type": "markdown",
      "metadata": {
        "id": "xd0GXKx6NXAj"
      },
      "source": [
        "例外處理 Exception Handling"
      ]
    },
    {
      "cell_type": "code",
      "metadata": {
        "id": "s-Y9kAmRNZK5",
        "colab": {
          "base_uri": "https://localhost:8080/"
        },
        "outputId": "4aff6ad4-bae7-409a-c05f-c910a557e809"
      },
      "source": [
        "def get_tag_text(url,tag):\n",
        "  try:\n",
        "    resp = rq.get(url)\n",
        "    if resp.status_code == 200:\n",
        "      soup = BeautifulSoup(r.text,\"lxml\")\n",
        "      return soup.find(tag).text\n",
        "  except Exception as e:\n",
        "    print('Exception:%s'%(e))\n",
        "  return None\n",
        "\n",
        "bad_url = \"\"\n",
        "print(get_tag_text(url,'h1'))\n",
        "print(get_tag_text(url,'h88'))\n",
        "print(get_tag_text(bad_url,'h1'))"
      ],
      "execution_count": 11,
      "outputs": [
        {
          "output_type": "stream",
          "name": "stdout",
          "text": [
            "\n",
            "\n",
            "\n",
            "工商時報 - 閱讀財經新聞的第一選擇\n",
            "\n",
            "\n",
            "None\n",
            "Exception:Invalid URL '': No schema supplied. Perhaps you meant http://?\n",
            "None\n"
          ]
        }
      ]
    },
    {
      "cell_type": "markdown",
      "metadata": {
        "id": "PFdXvfn4KqJU"
      },
      "source": [
        "練習3:新聞文章彙整\n"
      ]
    },
    {
      "cell_type": "code",
      "metadata": {
        "id": "fsC030hQzTbr"
      },
      "source": [
        "def get_web_page(url):\n",
        "  resp = rq.get(\n",
        "      url = url,\n",
        "      cookies = {'over18': '1'}\n",
        "  )\n",
        "  if resp.status_code != 200:\n",
        "    print('invalid url:',resp.url)\n",
        "    return None\n",
        "  else: \n",
        "    return resp.text"
      ],
      "execution_count": 13,
      "outputs": []
    },
    {
      "cell_type": "code",
      "metadata": {
        "id": "RwpRfJpy53l8"
      },
      "source": [
        "def get_articles(dom,date):\n",
        "  soup = BeautifulSoup(dom,'html5lib')\n",
        "\n",
        "  paging_div = soup.find('div','btn-group btn-group-paging')\n",
        "  prev_url = paging_div.find_all('a')[1]['href']\n",
        "\n",
        "  articles = []\n",
        "  divs = soup.find_all('div','r-ent')\n",
        "\n",
        "  for d in divs:\n",
        "    if d.find('div','date').text.strip() == date:\n",
        "      push_count = 0\n",
        "      push_str = d.find('div','nrec').text\n",
        "\n",
        "      if push_str:\n",
        "        try:\n",
        "          push_count = int(push_str)\n",
        "        except ValueError:\n",
        "          if push_str == '爆':\n",
        "              push_count == 99\n",
        "          elif push_str.startswith('X'):\n",
        "            push_count == -10\n",
        "\n",
        "      if d.find('a'):\n",
        "        href = d.find('a')['href']\n",
        "        title = d.find('a').text\n",
        "        author = d.find('div','author').text if d.find('div','author') else ''\n",
        "        articles.append({\n",
        "            'title':title,\n",
        "            'href':href,\n",
        "            'push_count':push_count,\n",
        "            'author':author\n",
        "            })\n",
        "\n",
        "  return articles,prev_url"
      ],
      "execution_count": 17,
      "outputs": []
    },
    {
      "cell_type": "code",
      "metadata": {
        "id": "ceOIBNRb55uX"
      },
      "source": [
        "PTT_URL = 'https://www.ptt.cc'\n",
        "import time\n",
        "import json\n",
        "\n",
        "current_page=get_web_page(PTT_URL + '/bbs/Gossiping/index.html')\n",
        "\n",
        "if current_page:\n",
        "  articles = []\n",
        "\n",
        "  today = time.strftime(\"%m/%d\").lstrip('0')\n",
        "\n",
        "  current_articles,prev_url = get_articles(current_page,today)\n",
        "\n",
        "  while current_articles:\n",
        "    articles += current_articles\n",
        "    current_page = get_web_page(PTT_URL + prev_url)\n",
        "    current_articles,prev_url = get_articles(current_page,today)\n",
        "\n",
        "  print('今天有',len(articles),'篇文章')\n",
        "  threshold = 50\n",
        "  print('熱門文章(>%d推):'%(threshold))\n",
        "  for a in articles:\n",
        "    if int(a['push_count'])>threshold:\n",
        "      print(a)\n",
        "  \n",
        "  with open('gossiping.json','w',encoding='utf-8') as f:\n",
        "    json.dump(articles, f, indent=2, sort_keys=True, ensure_ascii=False)"
      ],
      "execution_count": null,
      "outputs": []
    },
    {
      "cell_type": "code",
      "metadata": {
        "id": "uTo6NdNqIaYW",
        "colab": {
          "base_uri": "https://localhost:8080/"
        },
        "outputId": "e2583deb-9002-4ac2-bbc5-059d5adf76c5"
      },
      "source": [
        "!pip install pyautogui"
      ],
      "execution_count": 16,
      "outputs": [
        {
          "output_type": "stream",
          "name": "stdout",
          "text": [
            "Collecting pyautogui\n",
            "  Downloading PyAutoGUI-0.9.53.tar.gz (59 kB)\n",
            "\u001b[?25l\r\u001b[K     |█████▌                          | 10 kB 16.9 MB/s eta 0:00:01\r\u001b[K     |███████████                     | 20 kB 22.6 MB/s eta 0:00:01\r\u001b[K     |████████████████▋               | 30 kB 28.4 MB/s eta 0:00:01\r\u001b[K     |██████████████████████▏         | 40 kB 28.7 MB/s eta 0:00:01\r\u001b[K     |███████████████████████████▊    | 51 kB 31.4 MB/s eta 0:00:01\r\u001b[K     |████████████████████████████████| 59 kB 5.5 MB/s \n",
            "\u001b[?25hCollecting pymsgbox\n",
            "  Downloading PyMsgBox-1.0.9.tar.gz (18 kB)\n",
            "  Installing build dependencies ... \u001b[?25l\u001b[?25hdone\n",
            "  Getting requirements to build wheel ... \u001b[?25l\u001b[?25hcanceled\n",
            "\u001b[31mERROR: Operation cancelled by user\u001b[0m\n"
          ]
        }
      ]
    },
    {
      "cell_type": "code",
      "metadata": {
        "colab": {
          "base_uri": "https://localhost:8080/",
          "height": 381
        },
        "id": "GaCrpo8tTXKb",
        "outputId": "90981e9d-828b-44e3-9f90-ec10d75c337a"
      },
      "source": [
        "import pyautogui\n",
        "import time\n",
        " \n",
        "def click(): \n",
        "    time.sleep(0.1)     \n",
        "    pyautogui.click()\n",
        "    with mss(display=':0') as sct: \n",
        "      sct.shot()\n",
        " \n",
        "def main():\n",
        "    for i in range(20): \n",
        "        click()\n",
        " \n",
        "main()"
      ],
      "execution_count": null,
      "outputs": [
        {
          "output_type": "error",
          "ename": "KeyError",
          "evalue": "ignored",
          "traceback": [
            "\u001b[0;31m---------------------------------------------------------------------------\u001b[0m",
            "\u001b[0;31mKeyError\u001b[0m                                  Traceback (most recent call last)",
            "\u001b[0;32m<ipython-input-10-7d18d3beee5c>\u001b[0m in \u001b[0;36m<module>\u001b[0;34m()\u001b[0m\n\u001b[0;32m----> 1\u001b[0;31m \u001b[0;32mimport\u001b[0m \u001b[0mpyautogui\u001b[0m\u001b[0;34m\u001b[0m\u001b[0;34m\u001b[0m\u001b[0m\n\u001b[0m\u001b[1;32m      2\u001b[0m \u001b[0;32mimport\u001b[0m \u001b[0mtime\u001b[0m\u001b[0;34m\u001b[0m\u001b[0;34m\u001b[0m\u001b[0m\n\u001b[1;32m      3\u001b[0m \u001b[0;34m\u001b[0m\u001b[0m\n\u001b[1;32m      4\u001b[0m \u001b[0;32mdef\u001b[0m \u001b[0mclick\u001b[0m\u001b[0;34m(\u001b[0m\u001b[0;34m)\u001b[0m\u001b[0;34m:\u001b[0m\u001b[0;34m\u001b[0m\u001b[0;34m\u001b[0m\u001b[0m\n\u001b[1;32m      5\u001b[0m     \u001b[0mtime\u001b[0m\u001b[0;34m.\u001b[0m\u001b[0msleep\u001b[0m\u001b[0;34m(\u001b[0m\u001b[0;36m0.1\u001b[0m\u001b[0;34m)\u001b[0m\u001b[0;34m\u001b[0m\u001b[0;34m\u001b[0m\u001b[0m\n",
            "\u001b[0;32m/usr/local/lib/python3.7/dist-packages/pyautogui/__init__.py\u001b[0m in \u001b[0;36m<module>\u001b[0;34m()\u001b[0m\n\u001b[1;32m    247\u001b[0m \u001b[0;34m\u001b[0m\u001b[0m\n\u001b[1;32m    248\u001b[0m \u001b[0;32mtry\u001b[0m\u001b[0;34m:\u001b[0m\u001b[0;34m\u001b[0m\u001b[0;34m\u001b[0m\u001b[0m\n\u001b[0;32m--> 249\u001b[0;31m     \u001b[0;32mimport\u001b[0m \u001b[0mmouseinfo\u001b[0m\u001b[0;34m\u001b[0m\u001b[0;34m\u001b[0m\u001b[0m\n\u001b[0m\u001b[1;32m    250\u001b[0m \u001b[0;34m\u001b[0m\u001b[0m\n\u001b[1;32m    251\u001b[0m     \u001b[0;32mdef\u001b[0m \u001b[0mmouseInfo\u001b[0m\u001b[0;34m(\u001b[0m\u001b[0;34m)\u001b[0m\u001b[0;34m:\u001b[0m\u001b[0;34m\u001b[0m\u001b[0;34m\u001b[0m\u001b[0m\n",
            "\u001b[0;32m/usr/local/lib/python3.7/dist-packages/mouseinfo/__init__.py\u001b[0m in \u001b[0;36m<module>\u001b[0;34m()\u001b[0m\n\u001b[1;32m    221\u001b[0m             \u001b[0;32mraise\u001b[0m\u001b[0;34m\u001b[0m\u001b[0;34m\u001b[0m\u001b[0m\n\u001b[1;32m    222\u001b[0m \u001b[0;34m\u001b[0m\u001b[0m\n\u001b[0;32m--> 223\u001b[0;31m     \u001b[0m_display\u001b[0m \u001b[0;34m=\u001b[0m \u001b[0mDisplay\u001b[0m\u001b[0;34m(\u001b[0m\u001b[0mos\u001b[0m\u001b[0;34m.\u001b[0m\u001b[0menviron\u001b[0m\u001b[0;34m[\u001b[0m\u001b[0;34m'DISPLAY'\u001b[0m\u001b[0;34m]\u001b[0m\u001b[0;34m)\u001b[0m\u001b[0;34m\u001b[0m\u001b[0;34m\u001b[0m\u001b[0m\n\u001b[0m\u001b[1;32m    224\u001b[0m \u001b[0;34m\u001b[0m\u001b[0m\n\u001b[1;32m    225\u001b[0m     \u001b[0;32mdef\u001b[0m \u001b[0m_linuxPosition\u001b[0m\u001b[0;34m(\u001b[0m\u001b[0;34m)\u001b[0m\u001b[0;34m:\u001b[0m\u001b[0;34m\u001b[0m\u001b[0;34m\u001b[0m\u001b[0m\n",
            "\u001b[0;32m/usr/lib/python3.7/os.py\u001b[0m in \u001b[0;36m__getitem__\u001b[0;34m(self, key)\u001b[0m\n\u001b[1;32m    679\u001b[0m         \u001b[0;32mexcept\u001b[0m \u001b[0mKeyError\u001b[0m\u001b[0;34m:\u001b[0m\u001b[0;34m\u001b[0m\u001b[0;34m\u001b[0m\u001b[0m\n\u001b[1;32m    680\u001b[0m             \u001b[0;31m# raise KeyError with the original key value\u001b[0m\u001b[0;34m\u001b[0m\u001b[0;34m\u001b[0m\u001b[0;34m\u001b[0m\u001b[0m\n\u001b[0;32m--> 681\u001b[0;31m             \u001b[0;32mraise\u001b[0m \u001b[0mKeyError\u001b[0m\u001b[0;34m(\u001b[0m\u001b[0mkey\u001b[0m\u001b[0;34m)\u001b[0m \u001b[0;32mfrom\u001b[0m \u001b[0;32mNone\u001b[0m\u001b[0;34m\u001b[0m\u001b[0;34m\u001b[0m\u001b[0m\n\u001b[0m\u001b[1;32m    682\u001b[0m         \u001b[0;32mreturn\u001b[0m \u001b[0mself\u001b[0m\u001b[0;34m.\u001b[0m\u001b[0mdecodevalue\u001b[0m\u001b[0;34m(\u001b[0m\u001b[0mvalue\u001b[0m\u001b[0;34m)\u001b[0m\u001b[0;34m\u001b[0m\u001b[0;34m\u001b[0m\u001b[0m\n\u001b[1;32m    683\u001b[0m \u001b[0;34m\u001b[0m\u001b[0m\n",
            "\u001b[0;31mKeyError\u001b[0m: 'DISPLAY'"
          ]
        }
      ]
    }
  ]
}